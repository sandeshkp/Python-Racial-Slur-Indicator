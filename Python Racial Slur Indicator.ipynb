{
 "cells": [
  {
   "cell_type": "code",
   "execution_count": 9,
   "id": "a715bb6f",
   "metadata": {},
   "outputs": [
    {
     "name": "stdout",
     "output_type": "stream",
     "text": [
      "Tweet: hey how are you\n",
      "Profanity score: 0\n",
      "\n",
      "Tweet: fuck\n",
      "Profanity score: 1\n",
      "\n"
     ]
    }
   ],
   "source": [
    "import string\n",
    "\n",
    "def calculate_profanity_score(sentence, profanity_words):\n",
    "    sentence = sentence.translate(str.maketrans(\"\", \"\", string.punctuation))\n",
    "    words = sentence.split()\n",
    "    profanity_score = 0\n",
    "    for word in words:\n",
    "        if word in profanity_words:\n",
    "            profanity_score += 1\n",
    "    return profanity_score\n",
    "\n",
    "profanity_words = [\n",
    "    \"fuck\",\n",
    "    \"fucker\",\n",
    "    \"fucking\",\n",
    "    \"damn\",\n",
    "    \"dammit\",\n",
    "    \"darn\",\n",
    "    \"hell\",\n",
    "    \"ass\",\n",
    "    \"asshole\",\n",
    "    \"bastard\",\n",
    "    \"bitch\",\n",
    "    \"cock\",\n",
    "    \"crap\",\n",
    "    \"cunt\",\n",
    "    \"dick\",\n",
    "    \"douche\",\n",
    "    \"dyke\",\n",
    "    \"fag\",\n",
    "    \"goddamn\",\n",
    "    \"nigger\",\n",
    "    \"piss\",\n",
    "    \"pussy\",\n",
    "    \"shit\",\n",
    "    \"slut\",\n",
    "    \"tits\",\n",
    "    \"twat\",\n",
    "    \"wank\",\n",
    "    \"whore\",\n",
    "    \"xxx\",\n",
    "    \"racial_slur_1\",\n",
    "    \"racial_slur_2\",\n",
    "\n",
    "]\n",
    "\n",
    "\n",
    "with open(\"tweets.txt\", \"r\") as file:\n",
    "    tweets = file.readlines()\n",
    "    for tweet in tweets:\n",
    "        profanity_score = calculate_profanity_score(tweet, profanity_words)\n",
    "        print(\"Tweet:\", tweet.strip())\n",
    "        print(\"Profanity score:\", profanity_score)\n",
    "        print()"
   ]
  },
  {
   "cell_type": "code",
   "execution_count": null,
   "id": "c2aea4e7",
   "metadata": {},
   "outputs": [],
   "source": []
  }
 ],
 "metadata": {
  "kernelspec": {
   "display_name": "Python 3 (ipykernel)",
   "language": "python",
   "name": "python3"
  },
  "language_info": {
   "codemirror_mode": {
    "name": "ipython",
    "version": 3
   },
   "file_extension": ".py",
   "mimetype": "text/x-python",
   "name": "python",
   "nbconvert_exporter": "python",
   "pygments_lexer": "ipython3",
   "version": "3.9.12"
  }
 },
 "nbformat": 4,
 "nbformat_minor": 5
}
